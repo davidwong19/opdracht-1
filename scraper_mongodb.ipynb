{
 "cells": [
  {
   "cell_type": "code",
   "execution_count": 1,
   "metadata": {},
   "outputs": [],
   "source": [
    "from bs4 import BeautifulSoup\n",
    "import requests\n",
    "import json\n",
    "import pandas as pd\n",
    "import time\n",
    "import pymongo as mongo"
   ]
  },
  {
   "cell_type": "code",
   "execution_count": 2,
   "metadata": {},
   "outputs": [],
   "source": [
    "client = mongo.MongoClient(\"mongodb://127.0.0.1:27017\")\n",
    "## Make new DB\n",
    "crypto_db = client[\"crypto\"]\n",
    "\n",
    " ## Make new collections\n",
    "col_crypto = crypto_db[\"hash\"]\n",
    "\n",
    "\n",
    "\n",
    "\n",
    "\n"
   ]
  },
  {
   "cell_type": "code",
   "execution_count": 3,
   "metadata": {},
   "outputs": [],
   "source": [
    "hash =[]\n",
    "timez =[]\n",
    "btc = []\n",
    "usd = []\n",
    "high =[]\n",
    "hash_store =[]\n",
    "time_store =[]\n",
    "high_store = []\n",
    "usd_store = []\n",
    "highNOsort =[]"
   ]
  },
  {
   "cell_type": "code",
   "execution_count": 4,
   "metadata": {},
   "outputs": [
    {
     "name": "stdout",
     "output_type": "stream",
     "text": [
      "KeyboardInterrupt exception is caught\n"
     ]
    }
   ],
   "source": [
    "import time\n",
    "a = 1 \n",
    "try:\n",
    "    while  a < 6:\n",
    "            #put in time till next scrape time. sleep(3 = 3s)\n",
    "            time.sleep(10)\n",
    "            hash.clear()\n",
    "            timez.clear()\n",
    "            btc.clear()\n",
    "            usd.clear()\n",
    "            high.clear()\n",
    "            highNOsort.clear()\n",
    "            r3 = requests.get(\"https://www.blockchain.com/btc/unconfirmed-transactions\")\n",
    "            soup = BeautifulSoup(r3.text,features =\"html.parser\")\n",
    "            #hash\n",
    "            oke = soup.find_all('a',{ \"class\" : \"sc-1r996ns-0 fLwyDF sc-1tbyx6t-1 kCGMTY iklhnl-0 eEewhk d53qjk-0 ctEFcK\"})\n",
    "            for ok in oke:\n",
    "                s = ok.text.strip()\n",
    "                hash.append(s)\n",
    "            #time\n",
    "            oke = soup.find_all('span',{ \"class\" : \"sc-1ryi78w-0 cILyoi sc-16b9dsl-1 ZwupP u3ufsr-0 eQTRKC\"})\n",
    "            k= 3\n",
    "            for ok in oke:\n",
    "                s = ok.text.strip()\n",
    "                if k%3 == 0:\n",
    "                    s1 = s.split(':')\n",
    "                    s2 = int(s1[0])+1\n",
    "                    s3 = str(s2) +':'+s1[1]\n",
    "                    timez.append(s3)\n",
    "                k = k + 1\n",
    "            #btc\n",
    "            oke = soup.find_all('span',{ \"class\" : \"sc-1ryi78w-0 cILyoi sc-16b9dsl-1 ZwupP u3ufsr-0 eQTRKC\"})\n",
    "            k= 2\n",
    "            for ok in oke:\n",
    "                s = ok.text.strip()\n",
    "                if k%3 == 0:\n",
    "                    btc.append(s)\n",
    "                k = k + 1\n",
    "            #this is btc only in numbers without BTC\n",
    "            high =[]\n",
    "            highNOsort =[]\n",
    "            for ok in btc:\n",
    "                ok2 = ok.replace('BTC', '')\n",
    "                ok3 = ok2.replace(' ','')\n",
    "                high.append(float(ok3))\n",
    "                highNOsort.append(float(ok3))\n",
    "            #usd\n",
    "            oke = soup.find_all('span',{ \"class\" : \"sc-1ryi78w-0 cILyoi sc-16b9dsl-1 ZwupP u3ufsr-0 eQTRKC\"})\n",
    "            k= 1\n",
    "            for ok in oke:\n",
    "                s = ok.text.strip()\n",
    "                if k%3 == 0:\n",
    "                    usd.append(s)\n",
    "                k = k + 1\n",
    "            #check btc\n",
    "            high.sort(reverse=True)\n",
    "            for ok in high:\n",
    "                s = ok\n",
    "                break        \n",
    "            z = 0  \n",
    "            for f in highNOsort:\n",
    "                if f == s:\n",
    "\n",
    "                  #old storing method\n",
    "                  \n",
    "                  if s not in high_store:\n",
    "                    #hash_store.append(hash[z]) \n",
    "                    #time_store.append(timez[z])\n",
    "                    #high_store.append(highNOsort[z]) \n",
    "                    #usd_store.append(usd[z])\n",
    "                    #crypto_df = pd.DataFrame({'hash':hash_store,'time':time_store,'btc':high_store,'usd':usd_store})\n",
    "                    #crypto_df.to_csv('crypto.csv',index=False)\n",
    "                    #break\n",
    "                    high_store.append(s)\n",
    "                    # data\n",
    "                    mycrypto = {\"hash\": hash[z], \"time\": timez[z], \"btc\": highNOsort[z], \"usd\": usd[z]}\n",
    "                    #insert\n",
    "                    x = col_crypto.insert_one(mycrypto)\n",
    "                    break\n",
    "                z = z+1\n",
    "              \n",
    "except KeyboardInterrupt:\n",
    "        print ('KeyboardInterrupt exception is caught')\n",
    "            "
   ]
  }
 ],
 "metadata": {
  "interpreter": {
   "hash": "2b98e5309e6e3b0bade2ed4a1aa225e8ff7275f11bed2b4c0572310c8cf94ab4"
  },
  "kernelspec": {
   "display_name": "Python 3 (ipykernel)",
   "language": "python",
   "name": "python3"
  },
  "language_info": {
   "codemirror_mode": {
    "name": "ipython",
    "version": 3
   },
   "file_extension": ".py",
   "mimetype": "text/x-python",
   "name": "python",
   "nbconvert_exporter": "python",
   "pygments_lexer": "ipython3",
   "version": "3.9.7"
  }
 },
 "nbformat": 4,
 "nbformat_minor": 2
}

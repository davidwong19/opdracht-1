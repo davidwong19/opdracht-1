{
 "cells": [
  {
   "cell_type": "code",
   "execution_count": 1,
   "metadata": {},
   "outputs": [],
   "source": [
    "from bs4 import BeautifulSoup\n",
    "import requests\n",
    "import json\n",
    "import pandas as pd"
   ]
  },
  {
   "cell_type": "code",
   "execution_count": 2,
   "metadata": {},
   "outputs": [],
   "source": [
    "r3 = requests.get(\"https://www.blockchain.com/btc/unconfirmed-transactions\")\n",
    "soup = BeautifulSoup(r3.text,features =\"html.parser\") "
   ]
  },
  {
   "cell_type": "code",
   "execution_count": 3,
   "metadata": {},
   "outputs": [],
   "source": [
    "hash =[]\n",
    "time =[]\n",
    "btc = []\n",
    "usd = []\n"
   ]
  },
  {
   "cell_type": "code",
   "execution_count": 4,
   "metadata": {},
   "outputs": [],
   "source": [
    "#hash\n",
    "oke = soup.find_all('a',{ \"class\" : \"sc-1r996ns-0 fLwyDF sc-1tbyx6t-1 kCGMTY iklhnl-0 eEewhk d53qjk-0 ctEFcK\"})\n",
    "for ok in oke:\n",
    "    s = ok.text.strip()\n",
    "    hash.append(s)"
   ]
  },
  {
   "cell_type": "code",
   "execution_count": 5,
   "metadata": {},
   "outputs": [],
   "source": [
    "#time\n",
    "oke = soup.find_all('span',{ \"class\" : \"sc-1ryi78w-0 cILyoi sc-16b9dsl-1 ZwupP u3ufsr-0 eQTRKC\"})\n",
    "k= 3\n",
    "for ok in oke:\n",
    "    s = ok.text.strip()\n",
    "    if k%3 == 0:\n",
    "        time.append(s)\n",
    "    k = k + 1"
   ]
  },
  {
   "cell_type": "code",
   "execution_count": 6,
   "metadata": {},
   "outputs": [],
   "source": [
    "#btc\n",
    "oke = soup.find_all('span',{ \"class\" : \"sc-1ryi78w-0 cILyoi sc-16b9dsl-1 ZwupP u3ufsr-0 eQTRKC\"})\n",
    "k= 2\n",
    "for ok in oke:\n",
    "    s = ok.text.strip()\n",
    "    if k%3 == 0:\n",
    "        btc.append(s)\n",
    "    k = k + 1"
   ]
  },
  {
   "cell_type": "code",
   "execution_count": 7,
   "metadata": {},
   "outputs": [],
   "source": [
    "#usd\n",
    "oke = soup.find_all('span',{ \"class\" : \"sc-1ryi78w-0 cILyoi sc-16b9dsl-1 ZwupP u3ufsr-0 eQTRKC\"})\n",
    "k= 1\n",
    "for ok in oke:\n",
    "    s = ok.text.strip()\n",
    "    if k%3 == 0:\n",
    "        usd.append(s)\n",
    "    k = k + 1"
   ]
  },
  {
   "cell_type": "code",
   "execution_count": 8,
   "metadata": {},
   "outputs": [],
   "source": [
    "crypto_df = pd.DataFrame({'hash':hash,'time':time,'btc':btc,'usd':usd})"
   ]
  },
  {
   "cell_type": "code",
   "execution_count": null,
   "metadata": {},
   "outputs": [],
   "source": [
    "crypto_df.to_excel('crypto.xlsx',index=False)"
   ]
  }
 ],
 "metadata": {
  "interpreter": {
   "hash": "2b98e5309e6e3b0bade2ed4a1aa225e8ff7275f11bed2b4c0572310c8cf94ab4"
  },
  "kernelspec": {
   "display_name": "Python 3.9.7 ('base')",
   "language": "python",
   "name": "python3"
  },
  "language_info": {
   "codemirror_mode": {
    "name": "ipython",
    "version": 3
   },
   "file_extension": ".py",
   "mimetype": "text/x-python",
   "name": "python",
   "nbconvert_exporter": "python",
   "pygments_lexer": "ipython3",
   "version": "3.9.7"
  },
  "orig_nbformat": 4
 },
 "nbformat": 4,
 "nbformat_minor": 2
}

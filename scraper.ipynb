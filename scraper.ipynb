{
 "cells": [
  {
   "cell_type": "code",
   "execution_count": 37,
   "metadata": {},
   "outputs": [],
   "source": [
    "from bs4 import BeautifulSoup\n",
    "import requests\n",
    "import json\n",
    "import pandas as pd\n",
    "import time"
   ]
  },
  {
   "cell_type": "code",
   "execution_count": 38,
   "metadata": {},
   "outputs": [],
   "source": [
    "hash =[]\n",
    "timez =[]\n",
    "btc = []\n",
    "usd = []\n",
    "\n",
    "hash_store =[]\n",
    "time_store =[]\n",
    "high_store = []\n",
    "usd_store = []"
   ]
  },
  {
   "cell_type": "code",
   "execution_count": 39,
   "metadata": {},
   "outputs": [
    {
     "name": "stdout",
     "output_type": "stream",
     "text": [
      "1\n",
      "1\n",
      "1\n",
      "1\n",
      "1\n",
      "1\n"
     ]
    },
    {
     "ename": "KeyboardInterrupt",
     "evalue": "",
     "output_type": "error",
     "traceback": [
      "\u001b[1;31m---------------------------------------------------------------------------\u001b[0m",
      "\u001b[1;31mKeyboardInterrupt\u001b[0m                         Traceback (most recent call last)",
      "\u001b[1;32m~\\AppData\\Local\\Temp/ipykernel_17012/1395193681.py\u001b[0m in \u001b[0;36m<module>\u001b[1;34m\u001b[0m\n\u001b[0;32m      4\u001b[0m \u001b[0ma\u001b[0m \u001b[1;33m=\u001b[0m \u001b[1;36m1\u001b[0m\u001b[1;33m\u001b[0m\u001b[1;33m\u001b[0m\u001b[0m\n\u001b[0;32m      5\u001b[0m \u001b[1;32mwhile\u001b[0m  \u001b[0ma\u001b[0m \u001b[1;33m<\u001b[0m \u001b[1;36m6\u001b[0m\u001b[1;33m:\u001b[0m\u001b[1;33m\u001b[0m\u001b[1;33m\u001b[0m\u001b[0m\n\u001b[1;32m----> 6\u001b[1;33m         \u001b[0mtime\u001b[0m\u001b[1;33m.\u001b[0m\u001b[0msleep\u001b[0m\u001b[1;33m(\u001b[0m\u001b[1;36m3\u001b[0m\u001b[1;33m)\u001b[0m\u001b[1;33m\u001b[0m\u001b[1;33m\u001b[0m\u001b[0m\n\u001b[0m\u001b[0;32m      7\u001b[0m         \u001b[0mprint\u001b[0m\u001b[1;33m(\u001b[0m\u001b[0ma\u001b[0m\u001b[1;33m)\u001b[0m\u001b[1;33m\u001b[0m\u001b[1;33m\u001b[0m\u001b[0m\n\u001b[0;32m      8\u001b[0m         \u001b[0mhash\u001b[0m\u001b[1;33m.\u001b[0m\u001b[0mclear\u001b[0m\u001b[1;33m(\u001b[0m\u001b[1;33m)\u001b[0m\u001b[1;33m\u001b[0m\u001b[1;33m\u001b[0m\u001b[0m\n",
      "\u001b[1;31mKeyboardInterrupt\u001b[0m: "
     ]
    }
   ],
   "source": [
    "import time\n",
    "a = 1 \n",
    "while  a < 6:\n",
    "        #put in time till next scrape time. sleep(3 = 3s)\n",
    "        time.sleep(3)\n",
    "        print(a)\n",
    "        hash.clear()\n",
    "        timez.clear()\n",
    "        btc.clear()\n",
    "        usd.clear()\n",
    "        r3 = requests.get(\"https://www.blockchain.com/btc/unconfirmed-transactions\")\n",
    "        soup = BeautifulSoup(r3.text,features =\"html.parser\")\n",
    "        #hash\n",
    "        oke = soup.find_all('a',{ \"class\" : \"sc-1r996ns-0 fLwyDF sc-1tbyx6t-1 kCGMTY iklhnl-0 eEewhk d53qjk-0 ctEFcK\"})\n",
    "        for ok in oke:\n",
    "            s = ok.text.strip()\n",
    "            hash.append(s)\n",
    "        #time\n",
    "        oke = soup.find_all('span',{ \"class\" : \"sc-1ryi78w-0 cILyoi sc-16b9dsl-1 ZwupP u3ufsr-0 eQTRKC\"})\n",
    "        k= 3\n",
    "        for ok in oke:\n",
    "            s = ok.text.strip()\n",
    "            if k%3 == 0:\n",
    "                timez.append(s)\n",
    "            k = k + 1\n",
    "        #btc\n",
    "        oke = soup.find_all('span',{ \"class\" : \"sc-1ryi78w-0 cILyoi sc-16b9dsl-1 ZwupP u3ufsr-0 eQTRKC\"})\n",
    "        k= 2\n",
    "        for ok in oke:\n",
    "            s = ok.text.strip()\n",
    "            if k%3 == 0:\n",
    "                btc.append(s)\n",
    "            k = k + 1\n",
    "        #this is btc only in numbers without BTC\n",
    "        high =[]\n",
    "        btc.sort()\n",
    "        for ok in btc:\n",
    "            ok2 = ok.replace('BTC', '')\n",
    "            ok3 = ok2.replace(' ','')\n",
    "            high.append(float(ok3))\n",
    "        #usd\n",
    "        oke = soup.find_all('span',{ \"class\" : \"sc-1ryi78w-0 cILyoi sc-16b9dsl-1 ZwupP u3ufsr-0 eQTRKC\"})\n",
    "        k= 1\n",
    "        for ok in oke:\n",
    "            s = ok.text.strip()\n",
    "            if k%3 == 0:\n",
    "                usd.append(s)\n",
    "            k = k + 1\n",
    "        #check btc\n",
    "        high.sort(reverse=True)\n",
    "        for ok in high:\n",
    "            s = ok\n",
    "            break        \n",
    "        z = 0\n",
    "        l = 0\n",
    "        while l == 0:\n",
    "            if s == high[z]:\n",
    "                l =l+1\n",
    "                hash_store.append(hash[z]) \n",
    "                time_store.append(timez[z])\n",
    "                high_store.append(high[z]) \n",
    "                usd_store.append(usd[z])\n",
    "                break\n",
    "            z = z+1\n",
    "        crypto_df = pd.DataFrame({'hash':hash_store,'time':time_store,'btc':high_store,'usd':usd_store})\n",
    "        crypto_df.to_csv('crypto.csv',index=False)"
   ]
  },
  {
   "cell_type": "code",
   "execution_count": null,
   "metadata": {},
   "outputs": [
    {
     "name": "stdout",
     "output_type": "stream",
     "text": [
      "1646644111.337947\n"
     ]
    }
   ],
   "source": []
  },
  {
   "cell_type": "code",
   "execution_count": null,
   "metadata": {},
   "outputs": [
    {
     "name": "stdout",
     "output_type": "stream",
     "text": [
      "Finished iterating in: 4 seconds\n"
     ]
    }
   ],
   "source": [
    "start_time = time.time()\n",
    "seconds = 4\n",
    "\n",
    "while True:\n",
    "    current_time = time.time()\n",
    "    elapsed_time = current_time - start_time\n",
    "\n",
    "    "
   ]
  }
 ],
 "metadata": {
  "interpreter": {
   "hash": "2b98e5309e6e3b0bade2ed4a1aa225e8ff7275f11bed2b4c0572310c8cf94ab4"
  },
  "kernelspec": {
   "display_name": "Python 3.9.7 ('base')",
   "language": "python",
   "name": "python3"
  },
  "language_info": {
   "codemirror_mode": {
    "name": "ipython",
    "version": 3
   },
   "file_extension": ".py",
   "mimetype": "text/x-python",
   "name": "python",
   "nbconvert_exporter": "python",
   "pygments_lexer": "ipython3",
   "version": "3.9.7"
  },
  "orig_nbformat": 4
 },
 "nbformat": 4,
 "nbformat_minor": 2
}
